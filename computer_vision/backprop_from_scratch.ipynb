{
 "cells": [
  {
   "cell_type": "markdown",
   "id": "ee05f2c1",
   "metadata": {},
   "source": [
    "In this notebook, I implement an MLP classifier from scratch, without using the backpropagation framework built into PyTorch. Doing so requires implementing backpropagation from scratch."
   ]
  },
  {
   "cell_type": "markdown",
   "id": "fac33f2d-4550-4d19-b5ae-47c8a788355f",
   "metadata": {},
   "source": [
    "### Step 1: Download FashionMNIST Dataset\n",
    "\n",
    "Use `torchvision.datasets`"
   ]
  },
  {
   "cell_type": "code",
   "execution_count": 1,
   "id": "7a860ba2-5ee8-4404-95f9-579021873b90",
   "metadata": {},
   "outputs": [],
   "source": [
    "import os\n",
    "import itertools\n",
    "import math\n",
    "\n",
    "import torch\n",
    "from torchvision.datasets import FashionMNIST, MNIST\n",
    "from torchvision import transforms\n",
    "import matplotlib.pyplot as plt"
   ]
  },
  {
   "cell_type": "code",
   "execution_count": 2,
   "id": "5133f057",
   "metadata": {},
   "outputs": [],
   "source": [
    "def get_root():\n",
    "    current_file_path = os.getcwd()\n",
    "    current_dir = os.path.dirname(current_file_path)\n",
    "\n",
    "    # Traverse up the directory tree to find 'ml-experiments'\n",
    "    project_root = current_dir\n",
    "    while os.path.basename(project_root) != 'ml-experiments' and project_root != os.path.dirname(project_root):\n",
    "        project_root = os.path.dirname(project_root)\n",
    "    \n",
    "    # Check if we found the project root\n",
    "    if os.path.basename(project_root) != 'ml-experiments':\n",
    "        raise RuntimeError(\"Could not find 'ml-experiments' in the parent directories.\")\n",
    "\n",
    "    return project_root"
   ]
  },
  {
   "cell_type": "code",
   "execution_count": 3,
   "id": "fe0bd320-44c6-4bb7-a92b-95cbba615c90",
   "metadata": {},
   "outputs": [],
   "source": [
    "datadir = get_root() + '/computer_vision/datasets'\n",
    "transform = transforms.Compose([transforms.ToTensor()])\n",
    "#train_data = FashionMNIST(datadir, train=True, transform=transform, download=True)\n",
    "#val_data = FashionMNIST(datadir, train=False, transform=transform, download=True) \n",
    "train_data = MNIST(datadir, train=True, transform=transform, download=True)\n",
    "val_data = MNIST(datadir, train=False, transform=transform, download=True)"
   ]
  },
  {
   "cell_type": "code",
   "execution_count": 4,
   "id": "9cf202cf-15e4-4bba-8e67-c775ac1ab38f",
   "metadata": {},
   "outputs": [
    {
     "data": {
      "text/plain": [
       "Dataset MNIST\n",
       "    Number of datapoints: 60000\n",
       "    Root location: /Users/nickmcgreivy/code/ml-practice/ml-experiments/computer_vision/datasets\n",
       "    Split: Train\n",
       "    StandardTransform\n",
       "Transform: Compose(\n",
       "               ToTensor()\n",
       "           )"
      ]
     },
     "execution_count": 4,
     "metadata": {},
     "output_type": "execute_result"
    }
   ],
   "source": [
    "train_data"
   ]
  },
  {
   "cell_type": "markdown",
   "id": "ecb65e3b-0c3c-41c8-bf47-f429f17df1ac",
   "metadata": {},
   "source": [
    "### Step 2: Create DataLoader\n",
    "\n",
    "Use `torch.utils.data.TensorDataset` and `torch.utils.data.DataLoader`. Use `batch_size = 64`."
   ]
  },
  {
   "cell_type": "code",
   "execution_count": 5,
   "id": "9ed6200d-657f-4dc1-9870-7bb02d9d03cf",
   "metadata": {},
   "outputs": [],
   "source": [
    "from torch.utils.data import DataLoader"
   ]
  },
  {
   "cell_type": "code",
   "execution_count": 6,
   "id": "a0607536-967a-4b7d-9d9c-7ac373d493f0",
   "metadata": {},
   "outputs": [],
   "source": [
    "train_dl = DataLoader(train_data, batch_size=64, shuffle=True)\n",
    "val_dl = DataLoader(val_data, batch_size=64)"
   ]
  },
  {
   "cell_type": "code",
   "execution_count": 7,
   "id": "2848f5f4-6f3e-4c68-882f-4354945e0005",
   "metadata": {},
   "outputs": [
    {
     "name": "stdout",
     "output_type": "stream",
     "text": [
      "<torch.utils.data.dataloader.DataLoader object at 0x1140e0cb0>\n",
      "torch.Size([64, 1, 28, 28]) torch.Size([64]) tensor(1.) tensor(9)\n"
     ]
    }
   ],
   "source": [
    "print(train_dl)\n",
    "X, y = next(iter(train_dl))\n",
    "print(X.shape, y.shape, X.max(), y.max())"
   ]
  },
  {
   "cell_type": "markdown",
   "id": "36806ea3-2eb6-449d-a96c-a32eb977cd98",
   "metadata": {},
   "source": [
    "### Step 3: Create MLP Class \n",
    "\n",
    "The way I'll do this is I'll create a base class `Primitive`, which implements the methods `forward()` and `backward()`. The forward functions store the variables needed for the backward pass, and return the vector-Jacobian product on the backward pass. I'll also create a class `Module`, which is a subclass of `Primitive` and which also have the methods `get_params()` and `get_param_grads()`. These functions return iterators. Modules must also update the parameter gradients during the backward pass. The overall network (which subclasses `Module`) will be made up of layers (subclasses of `Primitive`) which update the parameter gradients during the `backward` function. \n",
    "\n",
    "There will be a global variable `no_grad` in the Primitive module, which determines whether the variables are saved for the backwards pass. Backwards calls an `Exception` if it is called while `no_grad` is `true`. We'll implement this as a context manager in the class `Primitive`. \n",
    "\n",
    "Our network will be a class `MLP` which subclasses `Module`. "
   ]
  },
  {
   "cell_type": "code",
   "execution_count": 8,
   "id": "b820fbe2-b89a-4d41-837b-12bb181bb809",
   "metadata": {},
   "outputs": [],
   "source": [
    "from abc import ABC, abstractmethod"
   ]
  },
  {
   "cell_type": "code",
   "execution_count": 9,
   "id": "e141d370-d03d-45cf-8893-523e594d9feb",
   "metadata": {},
   "outputs": [],
   "source": [
    "no_grad = False # global variable\n",
    "\n",
    "class Primitive(ABC):\n",
    "    \n",
    "    def __call__(self, *args):\n",
    "        return self.forward(*args)\n",
    "    \n",
    "    @abstractmethod\n",
    "    def forward(self):\n",
    "        pass\n",
    "\n",
    "    @abstractmethod\n",
    "    def backward(self):\n",
    "        pass\n",
    "\n",
    "\n",
    "class Module(Primitive):\n",
    "    @abstractmethod\n",
    "    def get_params(self):\n",
    "        pass"
   ]
  },
  {
   "cell_type": "code",
   "execution_count": 10,
   "id": "d2e80751-df1a-43f8-96d3-713640b2b919",
   "metadata": {},
   "outputs": [],
   "source": [
    "class ReLU(Primitive):\n",
    "    def forward(self, x):\n",
    "        out = torch.max(torch.zeros_like(x), x)\n",
    "        if not no_grad:\n",
    "            self.saved_for_backward = (x > 0).type(torch.float32)\n",
    "        return out\n",
    "\n",
    "    def backward(self, v):\n",
    "        elementwise_grad = self.saved_for_backward\n",
    "        del self.saved_for_backward\n",
    "        return v * elementwise_grad\n",
    "\n",
    "class Linear(Module):\n",
    "    def __init__(self, num_inputs, num_outputs):\n",
    "        self.init_params(num_inputs, num_outputs)\n",
    "    \n",
    "    def init_params(self, num_inputs, num_outputs):\n",
    "        \"\"\" Default initialization is Xavier init \"\"\"\n",
    "        self.weight = torch.randn(num_inputs, num_outputs) * math.sqrt(2 / (num_inputs + num_outputs))\n",
    "        self.b = torch.zeros(num_outputs)\n",
    "    \n",
    "    def forward(self, x):\n",
    "        if not no_grad:\n",
    "            self.saved_for_backward = x\n",
    "        return x @ self.weight + self.b\n",
    "\n",
    "    def backward(self, v):\n",
    "        x = self.saved_for_backward\n",
    "        del self.saved_for_backward\n",
    "        self.weight.grad = x.T @ v\n",
    "        self.b.grad = v.sum(0)\n",
    "        return v @ self.weight.T \n",
    "\n",
    "    def get_params(self):\n",
    "        return self.weight, self.b\n",
    "\n",
    "class MLP(Module):\n",
    "    def __init__(self, num_layers, num_inputs, hidden_width, num_outputs):\n",
    "        if num_layers == 1:\n",
    "            self.layers = [Linear(num_inputs, num_outputs)]\n",
    "            self.activations = []\n",
    "        else:\n",
    "            self.layers = [Linear(num_inputs, hidden_width)]\n",
    "            self.activations = [ReLU()]\n",
    "            for _ in range(num_layers - 2):\n",
    "                self.layers.append(Linear(hidden_width, hidden_width))\n",
    "                self.activations.append(ReLU())\n",
    "            self.layers.append(Linear(hidden_width, num_outputs))\n",
    "\n",
    "    def forward(self, x):\n",
    "        x = x.reshape(-1, 784)\n",
    "        for layer, activation in zip(self.layers[:-1], self.activations):\n",
    "            x = layer(x)\n",
    "            x = activation(x)\n",
    "        return self.layers[-1](x)\n",
    "\n",
    "    def backward(self, v):\n",
    "        v = self.layers[-1].backward(v)\n",
    "        for layer, activation in zip(self.layers[::-1][1:], self.activations[::-1]):\n",
    "            v = activation.backward(v)\n",
    "            v = layer.backward(v)\n",
    "        v = v.reshape(-1, 1, 28, 28)\n",
    "        return v\n",
    "\n",
    "    def get_params(self):\n",
    "        param_list = (layer.get_params() for layer in self.layers)\n",
    "        return itertools.chain(*param_list)"
   ]
  },
  {
   "cell_type": "markdown",
   "id": "56a9c026-5406-4a96-989e-066668cf601d",
   "metadata": {},
   "source": [
    "Let's test that our model gives a reasonable output, and that we can compute the gradient without any errors."
   ]
  },
  {
   "cell_type": "code",
   "execution_count": 11,
   "id": "bf485cc0-8c06-4f0c-b3ef-fa98cb6c915c",
   "metadata": {},
   "outputs": [],
   "source": [
    "model = MLP(3, 784, 32, 10)"
   ]
  },
  {
   "cell_type": "code",
   "execution_count": 12,
   "id": "cce00ef4-18a6-49b6-9b72-5bac188dac65",
   "metadata": {},
   "outputs": [
    {
     "name": "stdout",
     "output_type": "stream",
     "text": [
      "torch.Size([64, 1, 28, 28])\n"
     ]
    },
    {
     "data": {
      "text/plain": [
       "torch.Size([64, 10])"
      ]
     },
     "execution_count": 12,
     "metadata": {},
     "output_type": "execute_result"
    }
   ],
   "source": [
    "X, y = next(iter(train_dl))\n",
    "print(X.shape)\n",
    "model(X).shape"
   ]
  },
  {
   "cell_type": "code",
   "execution_count": 13,
   "id": "8b06e122-4838-4933-af41-badd926e9772",
   "metadata": {},
   "outputs": [
    {
     "data": {
      "text/plain": [
       "torch.Size([64, 1, 28, 28])"
      ]
     },
     "execution_count": 13,
     "metadata": {},
     "output_type": "execute_result"
    }
   ],
   "source": [
    "v_test = torch.randn(64, 10)\n",
    "model.backward(v_test).shape"
   ]
  },
  {
   "cell_type": "markdown",
   "id": "3d736832-c265-4a5a-b29c-53ab9f8155a7",
   "metadata": {},
   "source": [
    "### Step 4: Write Loss Function\n",
    "\n",
    "The loss function will be of type `Primitive`. We can call `loss_fn.backward(torch.tensor(1))` to compute the gradient of the loss with respect to the loss inputs. The loss returns the value of the loss on the inputs. "
   ]
  },
  {
   "cell_type": "code",
   "execution_count": 14,
   "id": "9afe9270-1495-4bbf-bfc4-33bea195ee22",
   "metadata": {},
   "outputs": [],
   "source": [
    "def softmax(z):\n",
    "    exp = z.exp()\n",
    "    return exp / exp.sum(1, keepdim=True)\n",
    "\n",
    "def one_hot(y, num_dims):\n",
    "    out = torch.zeros(y.shape[0], num_dims)\n",
    "    out[torch.arange(y.shape[0]), y] += 1\n",
    "    return out\n",
    "\n",
    "class CategoricalCrossEntropyLoss(Primitive):\n",
    "    def forward(self, logits, y):\n",
    "        if not no_grad:\n",
    "            self.saved_for_backward = softmax(logits), one_hot(y, logits.shape[1])\n",
    "        return (-torch.gather(logits, 1, y.view(-1, 1)).squeeze() + logits.exp().sum(1).log()).mean(0)\n",
    "\n",
    "    def backward(self, v):\n",
    "        y_hat, one_hot_y = self.saved_for_backward\n",
    "        del self.saved_for_backward\n",
    "        return v * (y_hat - one_hot_y) / y_hat.shape[0]"
   ]
  },
  {
   "cell_type": "code",
   "execution_count": 15,
   "id": "271cb636-bedb-4a30-bdbf-fc4cfe443d63",
   "metadata": {},
   "outputs": [
    {
     "name": "stdout",
     "output_type": "stream",
     "text": [
      "tensor(2.3175)\n"
     ]
    }
   ],
   "source": [
    "loss_fn = CategoricalCrossEntropyLoss()\n",
    "\n",
    "loss = loss_fn(model(X), y)\n",
    "print(loss)"
   ]
  },
  {
   "cell_type": "code",
   "execution_count": 16,
   "id": "79b399e6-cb0a-43d3-8cd4-b4b76735a634",
   "metadata": {},
   "outputs": [
    {
     "data": {
      "text/plain": [
       "torch.Size([64, 10])"
      ]
     },
     "execution_count": 16,
     "metadata": {},
     "output_type": "execute_result"
    }
   ],
   "source": [
    "loss_fn.backward(torch.tensor(1.)).shape"
   ]
  },
  {
   "cell_type": "markdown",
   "id": "a4e8c532-56d2-48e9-ae5e-0498bc1b9c23",
   "metadata": {},
   "source": [
    "### Step 5: Write Optimizer\n",
    "\n",
    "The base `Optimizer` class will take as inputs a network of type `Module`, a loss function, and a learning rate. By calling `step(batch)`, the optimizer will update each parameter in the network using the function `update_param(param, param_grad)`. We will write a class `SGD` which subclasses `Optimizer`. "
   ]
  },
  {
   "cell_type": "code",
   "execution_count": 17,
   "id": "fdbe9253-6dc5-472a-8e54-557394080bca",
   "metadata": {},
   "outputs": [],
   "source": [
    "class Optimizer(ABC):\n",
    "    def step(self, model):\n",
    "        for param in model.get_params():\n",
    "            self.update_param(param)\n",
    "        \n",
    "    @abstractmethod\n",
    "    def update_param(self):\n",
    "        pass"
   ]
  },
  {
   "cell_type": "code",
   "execution_count": 18,
   "id": "402a5cf5-af49-419a-90d9-8bbcc54717df",
   "metadata": {},
   "outputs": [],
   "source": [
    "class SGD(Optimizer):\n",
    "    def __init__(self, lr):\n",
    "        self.lr = lr\n",
    "\n",
    "    def update_param(self, param):\n",
    "        param -= self.lr * param.grad\n",
    "        param.grad = None"
   ]
  },
  {
   "cell_type": "code",
   "execution_count": 19,
   "id": "6a76b749-85f7-49dd-a1f1-1b0d966a0ca7",
   "metadata": {},
   "outputs": [],
   "source": [
    "optim = SGD(1e-2)"
   ]
  },
  {
   "cell_type": "markdown",
   "id": "ca3d6cbc-d328-4dc0-acfe-73a889b49d18",
   "metadata": {},
   "source": [
    "### Step 6: Create Trainer class\n",
    "\n",
    "The `Trainer` class will be initialized with optimizer, loss function, and `num_epochs`. When the `fit` function is called, will take as inputs `model` and `dataloaders`. This will loop through the training dataset `num_epoch` times, at the end of each epoch compute the loss and accuracy on the validation set. Plot the training loss, validation loss, and validation accuracy over time."
   ]
  },
  {
   "cell_type": "code",
   "execution_count": 20,
   "id": "3df15246-2837-4525-bc69-fddc0b378eb0",
   "metadata": {},
   "outputs": [],
   "source": [
    "class Trainer:\n",
    "    def __init__(self, optimizer, loss_fn, num_epochs, plot_per_epoch=10):\n",
    "        self.optimizer = optimizer\n",
    "        self.loss_fn = loss_fn\n",
    "        self.num_epochs = num_epochs\n",
    "        self.plot_per_epoch = plot_per_epoch\n",
    "\n",
    "    def accuracy(self, model, batch):\n",
    "        X, y = batch\n",
    "        no_grad = True\n",
    "        logits = model(X)\n",
    "        no_grad = False\n",
    "        return (torch.argmax(logits, 1) == y).type(torch.float).mean()\n",
    "\n",
    "    def loss(self, model, batch):\n",
    "        X, y = batch\n",
    "        logits = model(X)\n",
    "        loss = self.loss_fn(logits, y)\n",
    "        loss_grad = self.loss_fn.backward(torch.tensor(1.))\n",
    "        model.backward(loss_grad)\n",
    "        self.optimizer.step(model)\n",
    "        return loss.item()\n",
    "    \n",
    "    def train_epoch(self, model, dl):\n",
    "        losses = []\n",
    "        n_plot = math.ceil(len(dl) // self.plot_per_epoch)\n",
    "        l = 0.0\n",
    "        for i, batch in enumerate(dl):\n",
    "            if i > 0 and i % n_plot == 0:\n",
    "                losses.append(l / n_plot)\n",
    "                l = 0.0\n",
    "            l += self.loss(model, batch)\n",
    "        return losses\n",
    "        \n",
    "    def compute_val_accuracy(self, model, dl):\n",
    "        accuracies = []\n",
    "        n_plot = math.ceil(len(dl) // self.plot_per_epoch)\n",
    "        for i, batch in enumerate(dl):\n",
    "            accuracies.append(self.accuracy(model, batch).item())\n",
    "        return sum(accuracies) / len(accuracies)\n",
    "\n",
    "    def fit(self, model, train_dl, val_dl):\n",
    "        losses, accuracies = [], []\n",
    "        accuracies.append(self.compute_val_accuracy(model, val_dl))\n",
    "        for n in range(self.num_epochs):\n",
    "            print(f\"epoch: {n+1}/{self.num_epochs}\")\n",
    "            losses.append(self.train_epoch(model, train_dl))\n",
    "            accuracies.append(self.compute_val_accuracy(model, val_dl))\n",
    "        return losses, accuracies"
   ]
  },
  {
   "cell_type": "markdown",
   "id": "24af0c33-9278-4ec2-aa43-b2c41979aac9",
   "metadata": {},
   "source": [
    "### Step 7: Perform Training Loop\n",
    "\n",
    "Call `trainer.fit(model, dataloaders)` "
   ]
  },
  {
   "cell_type": "code",
   "execution_count": 21,
   "id": "8cffd9d4-39bc-4864-8068-28764bc39ac9",
   "metadata": {},
   "outputs": [],
   "source": [
    "num_epochs = 5\n",
    "optimizer = SGD(5e-2)\n",
    "loss_fn = CategoricalCrossEntropyLoss()\n",
    "model = MLP(3, 784, 32, 10)\n",
    "trainer = Trainer(optimizer, loss_fn, num_epochs)"
   ]
  },
  {
   "cell_type": "code",
   "execution_count": 22,
   "id": "a2e4841f-31df-472d-9ee0-cc0e7e82bcfa",
   "metadata": {},
   "outputs": [
    {
     "name": "stdout",
     "output_type": "stream",
     "text": [
      "epoch: 1/5\n",
      "epoch: 2/5\n",
      "epoch: 3/5\n",
      "epoch: 4/5\n",
      "epoch: 5/5\n"
     ]
    }
   ],
   "source": [
    "losses, val_accuracy = trainer.fit(model, train_dl, val_dl)"
   ]
  },
  {
   "cell_type": "code",
   "execution_count": 23,
   "id": "9ec8a82b-74e1-4994-b252-40d7c27c37d9",
   "metadata": {},
   "outputs": [
    {
     "name": "stdout",
     "output_type": "stream",
     "text": [
      "[[1.738131361622964, 0.7819163658285654, 0.5142397867735996, 0.44576060483532565, 0.3926241284096113, 0.35676367949413995, 0.3420459890077191, 0.3256446473220343, 0.3223589575418862, 0.2861969224227372], [0.27549601033810645, 0.2800179910595699, 0.2609610112123592, 0.25881894870150474, 0.2619225163293141, 0.26591018210816125, 0.2581888825822902, 0.23299363071239124, 0.2322503833841252, 0.2208885230043883], [0.20922251382181722, 0.22366689706361423, 0.20515196706338595, 0.22439900569377408, 0.21154993980802517, 0.20198995207426368, 0.19773022794435102, 0.19484950545974958, 0.19108684473140267, 0.1960984192468146], [0.1770696577525908, 0.18014355580652913, 0.18491683784191326, 0.16376272749195817, 0.17458352859142007, 0.17366797565132058, 0.16360902934465357, 0.1658495129837144, 0.16699334250022008, 0.16715975370137923], [0.1567643636897687, 0.16442461544147102, 0.1472254064214486, 0.1528368520961013, 0.1459910629257079, 0.1561347953174063, 0.1518679222752971, 0.14128466595404893, 0.14295319099259632, 0.15046892215007096]]\n",
      "[0.09404856687898089, 0.9115246815286624, 0.9224721337579618, 0.9489450636942676, 0.9507364649681529, 0.9598925159235668]\n"
     ]
    }
   ],
   "source": [
    "print(losses)\n",
    "print(val_accuracy)"
   ]
  },
  {
   "cell_type": "code",
   "execution_count": 24,
   "id": "8085ac70",
   "metadata": {},
   "outputs": [],
   "source": [
    "def flatten_2d_list(lst):\n",
    "    return [item for inner_lst in lst for item in inner_lst]\n",
    "\n",
    "def plot_metrics(losses, accuracies):\n",
    "    fig, axs = plt.subplots(2, figsize=(5,6))\n",
    "    losses = flatten_2d_list(losses)\n",
    "    loss_epochs = torch.linspace(0, num_epochs, num_epochs*trainer.plot_per_epoch)\n",
    "    axs[0].plot(loss_epochs, losses)\n",
    "    axs[1].plot(accuracies)\n",
    "    axs[0].set_ylim([0.0, max(losses) * 1.1])\n",
    "    axs[1].set_ylim([0.0, 1.0])\n",
    "    axs[0].set_ylabel(\"Training loss values\")\n",
    "    axs[1].set_ylabel(\"Validation Accuracy\")\n",
    "    axs[1].set_xlabel(\"Epochs\")\n",
    "    plt.show()"
   ]
  },
  {
   "cell_type": "code",
   "execution_count": 25,
   "id": "67d20037",
   "metadata": {},
   "outputs": [
    {
     "data": {
      "image/png": "[encoded data removed]",
      "text/plain": [
       "<Figure size 500x600 with 2 Axes>"
      ]
     },
     "metadata": {},
     "output_type": "display_data"
    }
   ],
   "source": [
    "plot_metrics(losses, val_accuracy)"
   ]
  }
 ],
 "metadata": {
  "kernelspec": {
   "display_name": "ml",
   "language": "python",
   "name": "python3"
  },
  "language_info": {
   "codemirror_mode": {
    "name": "ipython",
    "version": 3
   },
   "file_extension": ".py",
   "mimetype": "text/x-python",
   "name": "python",
   "nbconvert_exporter": "python",
   "pygments_lexer": "ipython3",
   "version": "3.12.8"
  }
 },
 "nbformat": 4,
 "nbformat_minor": 5
}
