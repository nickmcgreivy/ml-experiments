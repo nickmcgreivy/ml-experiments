{
 "cells": [
  {
   "cell_type": "markdown",
   "id": "38ce5bb3-fc7e-4e9d-a410-0db82a968da5",
   "metadata": {},
   "source": [
    "# What is torch.nn really?\n",
    "\n",
    "In this notebook, I'll try to reproduce (from memory, as much as possible) the pytorch tutorial [What is torch.nn really?](https://docs.pytorch.org/tutorials/beginner/nn_tutorial.html)\n",
    "\n",
    "The first step (which I will not reproduce from memory) is to download the MNIST dataset. Then I will train logistic regression without using any of the PyTorch modules `nn.Module`, `torch.optim`, `torch.Dataset`, and `torch.DataLoader`. I will then introduce these elements into my code one-by-one, showing how at each step the code gets simpler.\n",
    "\n",
    "Finally, I will replace my logistic regression model with a CNN. I will then switch from CPU to GPU, writing code that trains the CNN on a GPU device."
   ]
  },
  {
   "cell_type": "code",
   "execution_count": 46,
   "id": "86c8e897-aa6b-48ad-97a0-2706e654d009",
   "metadata": {},
   "outputs": [],
   "source": [
    "import torch\n",
    "from torch import nn\n",
    "import torch.nn.functional as F"
   ]
  },
  {
   "cell_type": "markdown",
   "id": "af5e8daf-4307-4ffa-9e90-d94f060d6fac",
   "metadata": {},
   "source": [
    "### Step 1: Load MNIST"
   ]
  },
  {
   "cell_type": "code",
   "execution_count": null,
   "id": "e3748eed-14db-4c7e-b2fb-3c2ee76c6dab",
   "metadata": {},
   "outputs": [],
   "source": [
    "from pathlib import Path\n",
    "import requests"
   ]
  },
  {
   "cell_type": "code",
   "execution_count": 48,
   "id": "640ac6f0-463b-48c8-b25c-2e1e7a0735af",
   "metadata": {},
   "outputs": [],
   "source": [
    "DATA_PATH = Path(\"datasets\")\n",
    "PATH = DATA_PATH / \"mnist\"\n",
    "\n",
    "PATH.mkdir(parents=True, exist_ok=True)\n",
    "\n",
    "URL = \"https://github.com/pytorch/tutorials/raw/main/_static/\"\n",
    "FILENAME = \"mnist.pkl.gz\"\n",
    "\n",
    "if not (PATH / FILENAME).exists():\n",
    "    content = requests.get(URL + FILENAME).content\n",
    "    (PATH / FILENAME).open(\"wb\").write(content)"
   ]
  },
  {
   "cell_type": "code",
   "execution_count": 49,
   "id": "50358779-6053-4b83-8ad0-1bf3a2f42545",
   "metadata": {},
   "outputs": [],
   "source": [
    "import pickle \n",
    "import gzip\n",
    "\n",
    "with gzip.open((PATH / FILENAME).as_posix(), \"rb\") as f:\n",
    "    ((x_train, y_train), (x_val, y_val), _) = pickle.load(f, encoding=\"latin-1\")"
   ]
  },
  {
   "cell_type": "code",
   "execution_count": 50,
   "id": "6a77779f-1da5-4c3f-b2d6-873d4f05cc82",
   "metadata": {},
   "outputs": [
    {
     "name": "stdout",
     "output_type": "stream",
     "text": [
      "(50000, 784)\n",
      "0.99609375\n"
     ]
    },
    {
     "data": {
      "image/png": "[encoded data removed]",
      "text/plain": [
       "<Figure size 640x480 with 1 Axes>"
      ]
     },
     "metadata": {},
     "output_type": "display_data"
    }
   ],
   "source": [
    "import matplotlib.pyplot as plt \n",
    "import numpy as np\n",
    "\n",
    "plt.imshow(x_train[0].reshape(28, 28), cmap=\"gray\")\n",
    "print(x_train.shape)\n",
    "print(x_train.max())"
   ]
  },
  {
   "cell_type": "markdown",
   "id": "16c20d67-4690-4bda-912f-a3901b795c38",
   "metadata": {},
   "source": [
    "### Step 2: Convert numpy arrays to pytorch tensors"
   ]
  },
  {
   "cell_type": "code",
   "execution_count": 51,
   "id": "8a2beb25-0dc7-46f9-af48-ee2a95cce206",
   "metadata": {},
   "outputs": [
    {
     "name": "stdout",
     "output_type": "stream",
     "text": [
      "<class 'numpy.ndarray'> <class 'numpy.ndarray'>\n",
      "<class 'torch.Tensor'> <class 'torch.Tensor'>\n",
      "torch.float32 torch.int64\n",
      "torch.Size([50000, 784]) torch.Size([50000])\n",
      "torch.Size([10000, 784]) torch.Size([10000])\n"
     ]
    }
   ],
   "source": [
    "print(type(x_train), type(y_train))\n",
    "x_train, x_val, y_train, y_val = map(\n",
    "    torch.tensor, (x_train, x_val, y_train, y_val)\n",
    ")\n",
    "print(type(x_train), type(y_train))\n",
    "print(x_train.dtype, y_train.dtype)\n",
    "print(x_train.shape, y_train.shape)\n",
    "print(x_val.shape, y_val.shape)"
   ]
  },
  {
   "cell_type": "markdown",
   "id": "4c436dcd-3e20-492a-95b7-fe03345d06e9",
   "metadata": {},
   "source": [
    "### Step 3: Neural network from scratch\n",
    "\n",
    "Neural network training consists of loading data from batches, writing down a model, initializing parameters, writing down a loss function, computing the gradients of the loss function with respect to the parameters, and optimizing the parameters using an optimization algorithm. Let's implement each of these steps from scratch."
   ]
  },
  {
   "cell_type": "code",
   "execution_count": 52,
   "id": "58af890a-7c87-4443-828f-b2a5dcbf7647",
   "metadata": {},
   "outputs": [],
   "source": [
    "import math"
   ]
  },
  {
   "cell_type": "code",
   "execution_count": 53,
   "id": "b2b3f4a2-42bf-43a9-a6a5-99e96433793f",
   "metadata": {},
   "outputs": [],
   "source": [
    "lr = 1e-2\n",
    "batch_size = 64\n",
    "num_train = x_train.shape[0]\n",
    "\n",
    "\n",
    "# used for testing\n",
    "x_batch = x_train[0 : batch_size]\n",
    "y_batch = y_train[0 : batch_size]"
   ]
  },
  {
   "cell_type": "code",
   "execution_count": 54,
   "id": "97f4691e-1d5c-478e-bd30-42e25b580e3d",
   "metadata": {},
   "outputs": [],
   "source": [
    "# parameter initialization: Xavier normal initialization\n",
    "# weights drawn from normal distribution with mean 0, variance 2 / (n_in + n_out)\n",
    "# multiplying normal distribution with variance 1 by sigma gives variance sigma**2\n",
    "\n",
    "def init_params():\n",
    "    sigma = math.sqrt((784 + 10) / 2)\n",
    "    weight = torch.randn(784, 10) / sigma\n",
    "    bias = torch.zeros(10, requires_grad=True)\n",
    "    weight.requires_grad_()\n",
    "    return weight, bias\n",
    "\n",
    "def model(xb, weight, bias):\n",
    "    return xb @ weight + bias\n",
    "\n",
    "def loss_fn(logits, y):\n",
    "    return -(logits[range(y.shape[0]), y] - logits.exp().sum(1).log()).mean(0)\n",
    "\n",
    "def accuracy(logits, y):\n",
    "    return sum([torch.argmax(logit) == idx for logit, idx in zip(logits, y)]) / y.shape[0] \n",
    "\n",
    "def test_model(x, y, weight, bias):\n",
    "    with torch.no_grad():\n",
    "        logits = model(x, weight, bias)\n",
    "        print(loss_fn(logits, y))\n",
    "        print(accuracy(logits, y))"
   ]
  },
  {
   "cell_type": "code",
   "execution_count": 55,
   "id": "37d6a3f6-5ac8-4e2f-858d-f1725518480f",
   "metadata": {},
   "outputs": [
    {
     "name": "stdout",
     "output_type": "stream",
     "text": [
      "tensor(2.3683)\n",
      "tensor(0.1250)\n"
     ]
    }
   ],
   "source": [
    "# test that loss function works\n",
    "test_model(x_batch, y_batch, *init_params())"
   ]
  },
  {
   "cell_type": "code",
   "execution_count": 56,
   "id": "cd672ad5-1392-41a2-afce-d271c9bb45df",
   "metadata": {},
   "outputs": [
    {
     "name": "stdout",
     "output_type": "stream",
     "text": [
      "tensor(2.3455)\n",
      "tensor(0.0625)\n",
      "Epoch: 0\n",
      "tensor(1.0889)\n",
      "tensor(0.6250)\n",
      "Epoch: 1\n",
      "tensor(0.9220)\n",
      "tensor(0.7500)\n",
      "Epoch: 2\n",
      "tensor(0.8461)\n",
      "tensor(0.7500)\n",
      "Epoch: 3\n",
      "tensor(0.7980)\n",
      "tensor(0.8125)\n",
      "Epoch: 4\n",
      "tensor(0.7626)\n",
      "tensor(0.8125)\n"
     ]
    }
   ],
   "source": [
    "weight, bias = init_params()\n",
    "test_model(x_batch, y_batch, weight, bias)\n",
    "\n",
    "num_epochs = 5\n",
    "for epoch in range(num_epochs):\n",
    "    print(f\"Epoch: {epoch}\")\n",
    "    for i in range((num_train - 1) // batch_size + 1):\n",
    "        start_i = batch_size * i\n",
    "        end_i = start_i + batch_size\n",
    "        x_batch = x_train[start_i:end_i]\n",
    "        y_batch = y_train[start_i:end_i]\n",
    "        logits = model(x_batch, weight, bias)\n",
    "        loss = loss_fn(logits, y_batch)\n",
    "        \n",
    "        loss.backward()\n",
    "        with torch.no_grad():\n",
    "            weight -= lr * weight.grad\n",
    "            bias -= lr * bias.grad\n",
    "            weight.grad.zero_()\n",
    "            bias.grad.zero_()\n",
    "    \n",
    "    test_model(x_batch, y_batch, weight, bias)"
   ]
  },
  {
   "cell_type": "markdown",
   "id": "07fd53c1-8483-4877-a781-2cbf0507c025",
   "metadata": {},
   "source": [
    "### Step 4: Use ```torch.nn.Functional``` to rewrite loss function"
   ]
  },
  {
   "cell_type": "code",
   "execution_count": 57,
   "id": "64a4121a-db7a-4c32-9b0d-d82202338944",
   "metadata": {},
   "outputs": [],
   "source": [
    "import torch.nn.functional as F"
   ]
  },
  {
   "cell_type": "code",
   "execution_count": 58,
   "id": "d625798a-1781-4c18-ab56-97de2402ef53",
   "metadata": {},
   "outputs": [],
   "source": [
    "loss_fn = F.cross_entropy "
   ]
  },
  {
   "cell_type": "code",
   "execution_count": 59,
   "id": "5d244ecf-b6e3-4891-9432-f55375035767",
   "metadata": {},
   "outputs": [
    {
     "name": "stdout",
     "output_type": "stream",
     "text": [
      "tensor(2.6762)\n",
      "tensor(0.)\n",
      "Epoch: 0\n",
      "tensor(1.1138)\n",
      "tensor(0.6875)\n",
      "Epoch: 1\n",
      "tensor(0.9513)\n",
      "tensor(0.7500)\n",
      "Epoch: 2\n",
      "tensor(0.8778)\n",
      "tensor(0.7500)\n",
      "Epoch: 3\n",
      "tensor(0.8307)\n",
      "tensor(0.8125)\n",
      "Epoch: 4\n",
      "tensor(0.7954)\n",
      "tensor(0.8750)\n"
     ]
    }
   ],
   "source": [
    "weight, bias = init_params()\n",
    "test_model(x_batch, y_batch, weight, bias)\n",
    "\n",
    "num_epochs = 5\n",
    "for epoch in range(num_epochs):\n",
    "    print(f\"Epoch: {epoch}\")\n",
    "    for i in range((num_train - 1) // batch_size + 1):\n",
    "        start_i = batch_size * i\n",
    "        end_i = start_i + batch_size\n",
    "        x_batch = x_train[start_i:end_i]\n",
    "        y_batch = y_train[start_i:end_i]\n",
    "        logits = model(x_batch, weight, bias)\n",
    "        loss = loss_fn(logits, y_batch)\n",
    "        \n",
    "        loss.backward()\n",
    "        with torch.no_grad():\n",
    "            weight -= lr * weight.grad\n",
    "            bias -= lr * bias.grad\n",
    "            weight.grad.zero_()\n",
    "            bias.grad.zero_()\n",
    "    \n",
    "    test_model(x_batch, y_batch, weight, bias)"
   ]
  },
  {
   "cell_type": "markdown",
   "id": "d83944b6-d233-468e-8fcd-44cdfd6dbbe5",
   "metadata": {},
   "source": [
    "### Step 5: Use ```nn.Module``` to keep track of parameters"
   ]
  },
  {
   "cell_type": "code",
   "execution_count": 60,
   "id": "d97da9f0-9daf-43c6-b9c5-30c0b2afe8e2",
   "metadata": {},
   "outputs": [],
   "source": [
    "class LogisticMnist(nn.Module):\n",
    "    def __init__(self):\n",
    "        super().__init__()\n",
    "        self.weight = nn.Parameter(torch.randn(784, 10) * math.sqrt(2 / (784 + 10)))\n",
    "        self.bias = nn.Parameter(torch.zeros(10))\n",
    "\n",
    "    def forward(self, x):\n",
    "        return x @ self.weight + self.bias\n",
    "\n",
    "def test_model(x, y, model):\n",
    "    with torch.no_grad():\n",
    "        logits = model(x)\n",
    "        print(loss_fn(logits, y))\n",
    "        print(accuracy(logits, y))"
   ]
  },
  {
   "cell_type": "code",
   "execution_count": 61,
   "id": "185113b2-e96f-4ae0-aa18-60941ecbfdd5",
   "metadata": {},
   "outputs": [
    {
     "name": "stdout",
     "output_type": "stream",
     "text": [
      "tensor(2.6254)\n",
      "tensor(0.0625)\n",
      "Epoch: 0\n",
      "tensor(1.1606)\n",
      "tensor(0.6875)\n",
      "Epoch: 1\n",
      "tensor(0.9959)\n",
      "tensor(0.7500)\n",
      "Epoch: 2\n",
      "tensor(0.9219)\n",
      "tensor(0.8125)\n",
      "Epoch: 3\n",
      "tensor(0.8739)\n",
      "tensor(0.8125)\n",
      "Epoch: 4\n",
      "tensor(0.8375)\n",
      "tensor(0.8750)\n"
     ]
    }
   ],
   "source": [
    "model = LogisticMnist()\n",
    "test_model(x_batch, y_batch, model)\n",
    "\n",
    "num_epochs = 5\n",
    "for epoch in range(num_epochs):\n",
    "    print(f\"Epoch: {epoch}\")\n",
    "    for i in range((num_train - 1) // batch_size + 1):\n",
    "        start_i = batch_size * i\n",
    "        end_i = start_i + batch_size\n",
    "        x_batch = x_train[start_i:end_i]\n",
    "        y_batch = y_train[start_i:end_i]\n",
    "        logits = model(x_batch)\n",
    "        loss = loss_fn(logits, y_batch)\n",
    "        \n",
    "        loss.backward()\n",
    "        with torch.no_grad():\n",
    "            for p in model.parameters():\n",
    "                p -= lr * p.grad\n",
    "            model.zero_grad()\n",
    "    \n",
    "    test_model(x_batch, y_batch, model)"
   ]
  },
  {
   "cell_type": "markdown",
   "id": "adf9059a-e29e-4c78-80d3-381b3d552c39",
   "metadata": {},
   "source": [
    "### Step 6: Use ```nn.Linear``` to not have to write down parameters explicitly"
   ]
  },
  {
   "cell_type": "code",
   "execution_count": 62,
   "id": "185efdf6-415e-4145-913f-d6ab53eae542",
   "metadata": {},
   "outputs": [],
   "source": [
    "class LogisticMnist(nn.Module):\n",
    "    def __init__(self):\n",
    "        super().__init__()\n",
    "        self.linear = nn.Linear(784, 10)\n",
    "\n",
    "    def forward(self, x):\n",
    "        return self.linear(x)"
   ]
  },
  {
   "cell_type": "code",
   "execution_count": 63,
   "id": "e58856d6-d7a6-463f-8bd4-82fd22dedef3",
   "metadata": {},
   "outputs": [
    {
     "name": "stdout",
     "output_type": "stream",
     "text": [
      "tensor(2.3104)\n",
      "tensor(0.)\n",
      "Epoch: 0\n",
      "tensor(1.1112)\n",
      "tensor(0.7500)\n",
      "Epoch: 1\n",
      "tensor(0.9659)\n",
      "tensor(0.7500)\n",
      "Epoch: 2\n",
      "tensor(0.8978)\n",
      "tensor(0.7500)\n",
      "Epoch: 3\n",
      "tensor(0.8527)\n",
      "tensor(0.8750)\n",
      "Epoch: 4\n",
      "tensor(0.8180)\n",
      "tensor(0.8750)\n"
     ]
    }
   ],
   "source": [
    "model = LogisticMnist()\n",
    "test_model(x_batch, y_batch, model)\n",
    "\n",
    "num_epochs = 5\n",
    "for epoch in range(num_epochs):\n",
    "    print(f\"Epoch: {epoch}\")\n",
    "    for i in range((num_train - 1) // batch_size + 1):\n",
    "        start_i = batch_size * i\n",
    "        end_i = start_i + batch_size\n",
    "        x_batch = x_train[start_i:end_i]\n",
    "        y_batch = y_train[start_i:end_i]\n",
    "        logits = model(x_batch)\n",
    "        loss = loss_fn(logits, y_batch)\n",
    "        \n",
    "        loss.backward()\n",
    "        with torch.no_grad():\n",
    "            for p in model.parameters():\n",
    "                p -= lr * p.grad\n",
    "            model.zero_grad()\n",
    "    \n",
    "    test_model(x_batch, y_batch, model)"
   ]
  },
  {
   "cell_type": "markdown",
   "id": "bf0b1fef-5717-4d84-ac2e-944723c1e3bf",
   "metadata": {},
   "source": [
    "### Step 7: Use ```torch.optim``` to simplify optimization"
   ]
  },
  {
   "cell_type": "code",
   "execution_count": 64,
   "id": "4cbe379a-c8a2-4e40-bf67-8f50ae63427e",
   "metadata": {},
   "outputs": [],
   "source": [
    "from torch import optim"
   ]
  },
  {
   "cell_type": "code",
   "execution_count": 65,
   "id": "cb46aad0-98f8-401d-b0d1-a93dbefff8f0",
   "metadata": {},
   "outputs": [
    {
     "name": "stdout",
     "output_type": "stream",
     "text": [
      "tensor(2.3840)\n",
      "tensor(0.)\n",
      "Epoch: 0\n",
      "tensor(1.1341)\n",
      "tensor(0.7500)\n",
      "Epoch: 1\n",
      "tensor(0.9803)\n",
      "tensor(0.7500)\n",
      "Epoch: 2\n",
      "tensor(0.9077)\n",
      "tensor(0.7500)\n",
      "Epoch: 3\n",
      "tensor(0.8599)\n",
      "tensor(0.8750)\n",
      "Epoch: 4\n",
      "tensor(0.8234)\n",
      "tensor(0.8750)\n"
     ]
    }
   ],
   "source": [
    "model = LogisticMnist()\n",
    "opt = optim.SGD(model.parameters(), lr)\n",
    "test_model(x_batch, y_batch, model)\n",
    "\n",
    "num_epochs = 5\n",
    "for epoch in range(num_epochs):\n",
    "    print(f\"Epoch: {epoch}\")\n",
    "    for i in range((num_train - 1) // batch_size + 1):\n",
    "        start_i = batch_size * i\n",
    "        end_i = start_i + batch_size\n",
    "        x_batch = x_train[start_i:end_i]\n",
    "        y_batch = y_train[start_i:end_i]\n",
    "        logits = model(x_batch)\n",
    "        loss = loss_fn(logits, y_batch)\n",
    "        \n",
    "        loss.backward()\n",
    "        opt.step()\n",
    "        opt.zero_grad()\n",
    "    \n",
    "    test_model(x_batch, y_batch, model)"
   ]
  },
  {
   "cell_type": "markdown",
   "id": "f21df519-048e-4941-9a2b-6120457c343a",
   "metadata": {},
   "source": [
    "### Step 8: Use ```torch.utils.data.Dataset``` to simplify data access\n",
    "\n",
    "We will use ```torch.utils.data.TensorDataset``` which creates a dataset from tensors."
   ]
  },
  {
   "cell_type": "code",
   "execution_count": 66,
   "id": "36d94413-ac39-40c9-96c9-09ef73a7d476",
   "metadata": {},
   "outputs": [],
   "source": [
    "from torch.utils.data import TensorDataset\n",
    "\n",
    "train_ds = TensorDataset(x_train, y_train)\n",
    "val_ds = TensorDataset(x_val, y_val)"
   ]
  },
  {
   "cell_type": "code",
   "execution_count": 67,
   "id": "915e8c81-e869-4045-a426-c781f8465eca",
   "metadata": {},
   "outputs": [
    {
     "name": "stdout",
     "output_type": "stream",
     "text": [
      "tensor(2.2314)\n",
      "tensor(0.1250)\n",
      "Epoch: 0\n",
      "tensor(1.0729)\n",
      "tensor(0.7500)\n",
      "Epoch: 1\n",
      "tensor(0.9233)\n",
      "tensor(0.7500)\n",
      "Epoch: 2\n",
      "tensor(0.8538)\n",
      "tensor(0.8750)\n",
      "Epoch: 3\n",
      "tensor(0.8091)\n",
      "tensor(0.8750)\n",
      "Epoch: 4\n",
      "tensor(0.7755)\n",
      "tensor(0.8750)\n"
     ]
    }
   ],
   "source": [
    "model = LogisticMnist()\n",
    "opt = optim.SGD(model.parameters(), lr)\n",
    "test_model(x_batch, y_batch, model)\n",
    "\n",
    "num_epochs = 5\n",
    "for epoch in range(num_epochs):\n",
    "    print(f\"Epoch: {epoch}\")\n",
    "    for i in range((num_train - 1) // batch_size + 1):\n",
    "        x_batch, y_batch = train_ds[batch_size * i: batch_size * i + batch_size]\n",
    "        logits = model(x_batch)\n",
    "        loss = loss_fn(logits, y_batch)\n",
    "        \n",
    "        loss.backward()\n",
    "        opt.step()\n",
    "        opt.zero_grad()\n",
    "    \n",
    "    test_model(x_batch, y_batch, model)"
   ]
  },
  {
   "cell_type": "markdown",
   "id": "3f2b19f5-64e9-4ec8-8e4d-a9cca93126fc",
   "metadata": {},
   "source": [
    "### Step 9: Use ```torch.utils.data.DataLoader``` to simplify minibatching"
   ]
  },
  {
   "cell_type": "code",
   "execution_count": 68,
   "id": "7c94faeb-a5fa-462a-b364-4d46ba6c5393",
   "metadata": {},
   "outputs": [],
   "source": [
    "from torch.utils.data import DataLoader\n",
    "\n",
    "train_dl = DataLoader(train_ds, batch_size=batch_size, shuffle=True)\n",
    "val_dl = DataLoader(val_ds, batch_size=2*batch_size)"
   ]
  },
  {
   "cell_type": "code",
   "execution_count": 69,
   "id": "5055f663-6b7b-439a-8294-76ca90673971",
   "metadata": {},
   "outputs": [
    {
     "name": "stdout",
     "output_type": "stream",
     "text": [
      "tensor(2.3463)\n",
      "tensor(0.0625)\n",
      "0\n",
      "tensor(0.5680)\n",
      "tensor(0.8750)\n",
      "1\n",
      "tensor(0.5444)\n",
      "tensor(0.8750)\n",
      "2\n",
      "tensor(0.3321)\n",
      "tensor(0.9375)\n",
      "3\n",
      "tensor(0.2173)\n",
      "tensor(1.)\n",
      "4\n",
      "tensor(0.3622)\n",
      "tensor(0.9375)\n"
     ]
    }
   ],
   "source": [
    "model = LogisticMnist()\n",
    "opt = optim.SGD(model.parameters(), lr)\n",
    "test_model(x_batch, y_batch, model)\n",
    "\n",
    "epochs = 5\n",
    "for epoch in range(epochs):\n",
    "    print(epoch)\n",
    "    for x_batch, y_batch in train_dl:\n",
    "        logits = model(x_batch)\n",
    "        loss = loss_fn(logits, y_batch)\n",
    "        \n",
    "        loss.backward()\n",
    "        opt.step()\n",
    "        opt.zero_grad()\n",
    "    \n",
    "    test_model(x_batch, y_batch, model)"
   ]
  },
  {
   "cell_type": "markdown",
   "id": "2bd46043-cd8e-4396-ae65-890762653c7b",
   "metadata": {},
   "source": [
    "### Step 10: Add Model Validation \n",
    "\n",
    "Hint: don't forget ```model.eval()``` and ```with torch.no_grad():```"
   ]
  },
  {
   "cell_type": "code",
   "execution_count": 70,
   "id": "2a70821d-bc31-432f-947e-f19fb8d3e9a5",
   "metadata": {},
   "outputs": [
    {
     "name": "stdout",
     "output_type": "stream",
     "text": [
      "Epoch: 0 Validation loss: 0.6305475831031799\n",
      "Epoch: 1 Validation loss: 0.487580806016922\n",
      "Epoch: 2 Validation loss: 0.4319365322589874\n",
      "Epoch: 3 Validation loss: 0.40091782808303833\n",
      "Epoch: 4 Validation loss: 0.38082873821258545\n"
     ]
    }
   ],
   "source": [
    "model = LogisticMnist()\n",
    "opt = optim.SGD(model.parameters(), lr)\n",
    "\n",
    "epochs = 5\n",
    "for epoch in range(epochs):\n",
    "    model.train()\n",
    "    for x_batch, y_batch in train_dl:\n",
    "        logits = model(x_batch)\n",
    "        loss = loss_fn(logits, y_batch)\n",
    "        \n",
    "        loss.backward()\n",
    "        opt.step()\n",
    "        opt.zero_grad()\n",
    "\n",
    "    model.eval()\n",
    "    with torch.no_grad():\n",
    "        total_val_loss = sum(loss_fn(model(xb), yb) for xb, yb in val_dl)\n",
    "\n",
    "    print(f\"Epoch: {epoch} Validation loss: {total_val_loss / len(val_dl)}\")"
   ]
  },
  {
   "cell_type": "markdown",
   "id": "edef6f8d-cdbc-4777-95f2-448e6fe894ec",
   "metadata": {},
   "source": [
    "### Step 11: Add ```fit()``` and ```get_data()``` functions"
   ]
  },
  {
   "cell_type": "code",
   "execution_count": 71,
   "id": "57f310ae-a818-4da9-bfe5-7b75f90f06c9",
   "metadata": {},
   "outputs": [],
   "source": [
    "def get_data(train_ds, val_ds, batch_size):\n",
    "    return (\n",
    "        DataLoader(train_ds, batch_size=batch_size, shuffle=True),\n",
    "        DataLoader(val_ds, batch_size=2 * batch_size)\n",
    "    )\n",
    "\n",
    "def loss_batch(model, xb, yb, loss_fn, opt=None):\n",
    "    logits = model(xb)\n",
    "    loss = loss_fn(logits, yb)\n",
    "\n",
    "    if opt is not None:\n",
    "        loss.backward()\n",
    "        opt.step()\n",
    "        opt.zero_grad()\n",
    "        \n",
    "    return loss.item(), len(xb)\n",
    "    \n",
    "\n",
    "def loss_eval(model, val_dl, loss_fn):\n",
    "    with torch.no_grad():\n",
    "        losses, batch_sizes = zip(*[loss_batch(model, xb, yb, loss_fn) for xb, yb in val_dl])\n",
    "        val_loss = np.sum(np.multiply(losses, batch_sizes)) / np.sum(batch_sizes)\n",
    "    return val_loss\n",
    "\n",
    "\n",
    "def fit(model, train_dl, val_dl, loss_fn, opt, epochs):\n",
    "    model.eval()\n",
    "    val_loss = loss_eval(model, val_dl, loss_fn)\n",
    "    print(f\"Initial validation loss: {val_loss}\")\n",
    "    \n",
    "    for epoch in range(epochs):\n",
    "        model.train()\n",
    "        for xb, yb in train_dl:\n",
    "            loss_batch(model, xb, yb, loss_fn, opt)\n",
    "\n",
    "        model.eval()\n",
    "        val_loss = loss_eval(model, val_dl, loss_fn)\n",
    "\n",
    "        print(f\"Epoch: {epoch} Validation loss: {val_loss}\")"
   ]
  },
  {
   "cell_type": "code",
   "execution_count": 72,
   "id": "dc4e6cb0-a180-48af-8bd9-abe4ecdc387f",
   "metadata": {},
   "outputs": [],
   "source": [
    "model = LogisticMnist()\n",
    "loss_fn = F.cross_entropy\n",
    "opt = optim.SGD(model.parameters(), lr=lr)\n",
    "epochs = 5\n",
    "batch_size = 64"
   ]
  },
  {
   "cell_type": "code",
   "execution_count": 73,
   "id": "0998c08d-355a-4b35-8c4a-e386e5081644",
   "metadata": {},
   "outputs": [],
   "source": [
    "def get_model():\n",
    "    model = LogisticMnist()\n",
    "    opt = optim.SGD(model.parameters(), lr=lr)\n",
    "    return model, opt\n",
    "    \n",
    "model, opt = get_model()\n",
    "train_dl, val_dl = get_data(train_ds, val_ds, batch_size)"
   ]
  },
  {
   "cell_type": "code",
   "execution_count": 74,
   "id": "249f2bd2-2c59-422b-8b61-fc2745fa3de2",
   "metadata": {},
   "outputs": [
    {
     "name": "stdout",
     "output_type": "stream",
     "text": [
      "Initial validation loss: 2.314932233428955\n",
      "Epoch: 0 Validation loss: 0.6304339765548707\n",
      "Epoch: 1 Validation loss: 0.4891471167087555\n",
      "Epoch: 2 Validation loss: 0.4341113529205322\n",
      "Epoch: 3 Validation loss: 0.4030500258684158\n",
      "Epoch: 4 Validation loss: 0.383065370631218\n"
     ]
    }
   ],
   "source": [
    "fit(model, train_dl, val_dl, loss_fn, opt, epochs)"
   ]
  },
  {
   "cell_type": "markdown",
   "id": "12232204-b867-4ce2-8dee-62d25efba3a3",
   "metadata": {},
   "source": [
    "### Step 12: Switch to CNN\n",
    "\n",
    "Hint: simply apply 3 convolutional layers, followed by three ReLU layers, followed by average pooling with a window size of 4. "
   ]
  },
  {
   "cell_type": "code",
   "execution_count": 75,
   "id": "82963cd0-fb47-4067-835a-175993c7d77c",
   "metadata": {},
   "outputs": [],
   "source": [
    "class Mnist_CNN(nn.Module):\n",
    "    def __init__(self):\n",
    "        super().__init__()\n",
    "        self.conv1 = nn.Conv2d(1, 16, kernel_size=3, stride=2, padding=1)\n",
    "        self.conv2 = nn.Conv2d(16, 16, kernel_size=3, stride=2, padding=1)\n",
    "        self.conv3 = nn.Conv2d(16, 10, kernel_size=3, stride=2, padding=1)\n",
    "        \n",
    "    def forward(self, x):\n",
    "        x = x.reshape(-1, 1, 28, 28)\n",
    "        x = F.relu(self.conv1(x))\n",
    "        x = F.relu(self.conv2(x))\n",
    "        x = F.relu(self.conv3(x))\n",
    "        x = F.avg_pool2d(x, 4)\n",
    "        return x.reshape(-1, x.shape[1])"
   ]
  },
  {
   "cell_type": "code",
   "execution_count": 76,
   "id": "71f84b06-dea7-4084-8421-2593286f189a",
   "metadata": {},
   "outputs": [],
   "source": [
    "def get_model():\n",
    "    model = Mnist_CNN()\n",
    "    opt = optim.SGD(model.parameters(), lr=0.1, momentum=0.9)\n",
    "    return model, opt\n",
    "\n",
    "model, opt = get_model()\n",
    "train_dl, val_dl = get_data(train_ds, val_ds, batch_size)"
   ]
  },
  {
   "cell_type": "code",
   "execution_count": 77,
   "id": "00edb818-2ac6-49b3-a903-abd415f6732a",
   "metadata": {},
   "outputs": [
    {
     "name": "stdout",
     "output_type": "stream",
     "text": [
      "Initial validation loss: 2.302840826034546\n",
      "Epoch: 0 Validation loss: 0.34306378083229067\n",
      "Epoch: 1 Validation loss: 0.22303513985276222\n",
      "Epoch: 2 Validation loss: 0.21057697334289552\n",
      "Epoch: 3 Validation loss: 0.18647764985561371\n",
      "Epoch: 4 Validation loss: 0.17975205611884593\n"
     ]
    }
   ],
   "source": [
    "fit(model, train_dl, val_dl, loss_fn, opt, epochs)"
   ]
  },
  {
   "cell_type": "markdown",
   "id": "dcbbb2a8-60d9-4ff7-979c-0d7a9aa5781a",
   "metadata": {},
   "source": [
    "### Step 13: Use ```nn.Sequential```\n",
    "\n",
    "Hint: use Lambda module which initializes with function, that can be passed to ```nn.Sequential``` as module. "
   ]
  },
  {
   "cell_type": "code",
   "execution_count": 78,
   "id": "5b93270e-fdc2-4be4-8661-f000ddca4607",
   "metadata": {},
   "outputs": [],
   "source": [
    "class Lambda(nn.Module):\n",
    "    def __init__(self, func):\n",
    "        super().__init__()\n",
    "        self.func = func\n",
    "\n",
    "    def forward(self, x):\n",
    "        return self.func(x)"
   ]
  },
  {
   "cell_type": "code",
   "execution_count": 79,
   "id": "6fc46902-516d-4b92-a408-5df686f41512",
   "metadata": {},
   "outputs": [],
   "source": [
    "def preprocess(x):\n",
    "    return x.reshape(-1, 1, 28, 28)\n",
    "\n",
    "def postprocess(x):\n",
    "    return x.reshape(-1, x.shape[1])\n",
    "\n",
    "def get_model():\n",
    "    model = nn.Sequential(\n",
    "        Lambda(preprocess), \n",
    "        nn.Conv2d(1, 16, kernel_size=3, stride=2, padding=1),\n",
    "        nn.ReLU(),\n",
    "        nn.Conv2d(16, 16, kernel_size=3, stride=2, padding=1),\n",
    "        nn.ReLU(),\n",
    "        nn.Conv2d(16, 10, kernel_size=3, stride=2, padding=1),\n",
    "        nn.ReLU(),\n",
    "        nn.AvgPool2d(4),\n",
    "        Lambda(postprocess),\n",
    "    )                     \n",
    "    opt = optim.SGD(model.parameters(), lr=0.1, momentum=0.9)\n",
    "    return model, opt"
   ]
  },
  {
   "cell_type": "code",
   "execution_count": 80,
   "id": "de6f5e8d-85bd-47d2-bcc8-fc1eeda31f7f",
   "metadata": {},
   "outputs": [],
   "source": [
    "model, opt = get_model()\n",
    "train_dl, val_dl = get_data(train_ds, val_ds, batch_size)"
   ]
  },
  {
   "cell_type": "code",
   "execution_count": 81,
   "id": "e4c0e64a-7b25-4983-8e93-f15dab457092",
   "metadata": {},
   "outputs": [
    {
     "name": "stdout",
     "output_type": "stream",
     "text": [
      "Initial validation loss: 2.302801552581787\n",
      "Epoch: 0 Validation loss: 0.3203518694639206\n",
      "Epoch: 1 Validation loss: 0.2484895849943161\n",
      "Epoch: 2 Validation loss: 0.20789666791558264\n",
      "Epoch: 3 Validation loss: 0.20751883352398873\n",
      "Epoch: 4 Validation loss: 0.15556487129330634\n"
     ]
    }
   ],
   "source": [
    "fit(model, train_dl, val_dl, loss_fn, opt, epochs)"
   ]
  },
  {
   "cell_type": "markdown",
   "id": "81293de7-6d64-4278-8c3c-606ce1b1274b",
   "metadata": {},
   "source": [
    "### Step 14: Use wrapped ```DataLoader```\n",
    "\n",
    "Hint: create a class with the methods ```__iter__``` and ```__len__``` which yields the next batch and applies a function to the dataset. This function will be our preprocessing function for the CNN which converts the length-784 array into 28x28. \n",
    "\n",
    "Hint: replace ```nn.AvgPool2d``` with ```nn.AdaptiveAvgPool2d``` which takes one argument, ```output_size```."
   ]
  },
  {
   "cell_type": "code",
   "execution_count": 82,
   "id": "f7fa871b-175b-4c98-8258-2bc99a933159",
   "metadata": {},
   "outputs": [],
   "source": [
    "class WrappedDataLoader:\n",
    "    def __init__(self, dl, func):\n",
    "        self.dl = dl\n",
    "        self.func = func\n",
    "\n",
    "    def __len__(self):\n",
    "        return len(self.dl)\n",
    "\n",
    "    def __iter__(self):\n",
    "        for b in self.dl:\n",
    "            yield self.func(*b)\n",
    "\n",
    "def get_model():\n",
    "    model = nn.Sequential( \n",
    "        nn.Conv2d(1, 16, kernel_size=3, stride=2, padding=1),\n",
    "        nn.ReLU(),\n",
    "        nn.Conv2d(16, 16, kernel_size=3, stride=2, padding=1),\n",
    "        nn.ReLU(),\n",
    "        nn.Conv2d(16, 10, kernel_size=3, stride=2, padding=1),\n",
    "        nn.ReLU(),\n",
    "        nn.AdaptiveAvgPool2d(1),\n",
    "        Lambda(postprocess),\n",
    "    )                     \n",
    "    opt = optim.SGD(model.parameters(), lr=0.1, momentum=0.9)\n",
    "    return model, opt\n",
    "\n",
    "def preprocess(x, y):\n",
    "    return x.reshape(-1, 1, 28, 28), y"
   ]
  },
  {
   "cell_type": "code",
   "execution_count": 83,
   "id": "302f416f-3b3e-4fb4-9684-3afa88a520ab",
   "metadata": {},
   "outputs": [],
   "source": [
    "train_dl, val_dl = get_data(train_ds, val_ds, batch_size)\n",
    "train_dl = WrappedDataLoader(train_dl, preprocess)\n",
    "val_dl = WrappedDataLoader(val_dl, preprocess)\n",
    "model, opt = get_model()"
   ]
  },
  {
   "cell_type": "code",
   "execution_count": 84,
   "id": "6606da98-69e7-48d7-a32a-11b0dc172488",
   "metadata": {},
   "outputs": [
    {
     "name": "stdout",
     "output_type": "stream",
     "text": [
      "Initial validation loss: 2.303780846786499\n",
      "Epoch: 0 Validation loss: 0.3385274554491043\n",
      "Epoch: 1 Validation loss: 0.3311109385251999\n",
      "Epoch: 2 Validation loss: 0.2782747683763504\n",
      "Epoch: 3 Validation loss: 0.22899432329833508\n",
      "Epoch: 4 Validation loss: 0.18766014320254326\n"
     ]
    }
   ],
   "source": [
    "fit(model, train_dl, val_dl, loss_fn, opt, epochs)"
   ]
  },
  {
   "cell_type": "markdown",
   "id": "c59fb289-34a0-4fce-85e3-f311fba09064",
   "metadata": {},
   "source": [
    "### Step 15: Run on GPU\n",
    "\n",
    "hint: use ```.to(device)``` for both tensors and model."
   ]
  },
  {
   "cell_type": "code",
   "execution_count": 85,
   "id": "1c919a41-af2e-4a79-98c1-cb6832f85f91",
   "metadata": {},
   "outputs": [
    {
     "name": "stdout",
     "output_type": "stream",
     "text": [
      "Using mps device\n"
     ]
    }
   ],
   "source": [
    "# this code won't work in old version of torch, but might work in Colab\n",
    "device = torch.accelerator.current_accelerator().type if torch.accelerator.is_available() else \"cpu\"\n",
    "print(f\"Using {device} device\")"
   ]
  },
  {
   "cell_type": "code",
   "execution_count": 86,
   "id": "4ec4afe7",
   "metadata": {},
   "outputs": [
    {
     "name": "stdout",
     "output_type": "stream",
     "text": [
      "tensor([1., 1., 1., 1., 1.], device='mps:0')\n"
     ]
    }
   ],
   "source": [
    "x = torch.ones(5)\n",
    "x = x.to(device)\n",
    "print(x)"
   ]
  },
  {
   "cell_type": "code",
   "execution_count": 87,
   "id": "8e8838c9",
   "metadata": {},
   "outputs": [],
   "source": [
    "def preprocess(x, y):\n",
    "    return x.reshape(-1, 1, 28, 28).to(device), y.to(device)\n",
    "\n",
    "def get_model():\n",
    "    model = nn.Sequential( \n",
    "        nn.Conv2d(1, 16, kernel_size=3, stride=2, padding=1),\n",
    "        nn.ReLU(),\n",
    "        nn.Conv2d(16, 16, kernel_size=3, stride=2, padding=1),\n",
    "        nn.ReLU(),\n",
    "        nn.Conv2d(16, 10, kernel_size=3, stride=2, padding=1),\n",
    "        nn.ReLU(),\n",
    "        nn.AdaptiveAvgPool2d(1),\n",
    "        Lambda(postprocess),\n",
    "    )                     \n",
    "    opt = optim.SGD(model.parameters(), lr=0.1, momentum=0.9)\n",
    "    return model.to(device), opt"
   ]
  },
  {
   "cell_type": "code",
   "execution_count": 88,
   "id": "0c373ff1",
   "metadata": {},
   "outputs": [],
   "source": [
    "train_dl, val_dl = get_data(train_ds, val_ds, batch_size)\n",
    "train_dl = WrappedDataLoader(train_dl, preprocess)\n",
    "val_dl = WrappedDataLoader(val_dl, preprocess)\n",
    "model, opt = get_model()"
   ]
  },
  {
   "cell_type": "code",
   "execution_count": 89,
   "id": "e1fe6f4c",
   "metadata": {},
   "outputs": [
    {
     "name": "stdout",
     "output_type": "stream",
     "text": [
      "torch.Size([64, 1, 28, 28]) torch.mps.FloatTensor\n",
      "torch.Size([64]) torch.mps.LongTensor\n"
     ]
    }
   ],
   "source": [
    "for X, y in train_dl:\n",
    "    print(X.shape, X.type())\n",
    "    print(y.shape, y.type())\n",
    "    break"
   ]
  },
  {
   "cell_type": "code",
   "execution_count": 90,
   "id": "73523426",
   "metadata": {},
   "outputs": [
    {
     "name": "stdout",
     "output_type": "stream",
     "text": [
      "Initial validation loss: 2.302761427307129\n",
      "Epoch: 0 Validation loss: 0.3885533068656921\n",
      "Epoch: 1 Validation loss: 0.2600893201589584\n",
      "Epoch: 2 Validation loss: 0.22128414344787598\n",
      "Epoch: 3 Validation loss: 0.21105054746866225\n",
      "Epoch: 4 Validation loss: 0.1956888154923916\n"
     ]
    }
   ],
   "source": [
    "fit(model, train_dl, val_dl, loss_fn, opt, epochs)"
   ]
  },
  {
   "cell_type": "code",
   "execution_count": null,
   "id": "ce4aea43",
   "metadata": {},
   "outputs": [],
   "source": []
  }
 ],
 "metadata": {
  "kernelspec": {
   "display_name": "ml",
   "language": "python",
   "name": "python3"
  },
  "language_info": {
   "codemirror_mode": {
    "name": "ipython",
    "version": 3
   },
   "file_extension": ".py",
   "mimetype": "text/x-python",
   "name": "python",
   "nbconvert_exporter": "python",
   "pygments_lexer": "ipython3",
   "version": "3.12.8"
  }
 },
 "nbformat": 4,
 "nbformat_minor": 5
}
